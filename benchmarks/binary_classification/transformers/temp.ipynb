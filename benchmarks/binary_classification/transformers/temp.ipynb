{
 "cells": [
  {
   "cell_type": "code",
   "execution_count": 4,
   "metadata": {},
   "outputs": [],
   "source": [
    "from PIL import Image\n",
    "import torch\n",
    "from aim.torch.models import AIMForImageClassification\n",
    "from aim.torch.data import val_transforms\n",
    "from torchvision import datasets\n",
    "import os\n",
    "from torch.utils.data import Dataset, DataLoader"
   ]
  },
  {
   "cell_type": "code",
   "execution_count": 7,
   "metadata": {},
   "outputs": [],
   "source": [
    "train_dataset = datasets.ImageFolder(os.path.join('/home/vedaant/send/NewDataset2',\"Train/\"), transform=val_transforms())\n",
    "train_dataloader = DataLoader(train_dataset, shuffle=True, batch_size=24, num_workers=4)"
   ]
  },
  {
   "cell_type": "code",
   "execution_count": 8,
   "metadata": {},
   "outputs": [
    {
     "name": "stdout",
     "output_type": "stream",
     "text": [
      "torch.Size([24, 3, 224, 224]) torch.Size([24])\n"
     ]
    }
   ],
   "source": [
    "for step, batch in enumerate(train_dataloader):\n",
    "    images, labels = batch\n",
    "    print(images.shape, labels.shape)\n",
    "    break"
   ]
  },
  {
   "cell_type": "code",
   "execution_count": 9,
   "metadata": {},
   "outputs": [
    {
     "data": {
      "text/plain": [
       "tensor([1, 1, 1, 0, 1, 0, 0, 1, 0, 0, 0, 0, 0, 0, 0, 0, 1, 1, 0, 1, 1, 0, 0, 0])"
      ]
     },
     "execution_count": 9,
     "metadata": {},
     "output_type": "execute_result"
    }
   ],
   "source": [
    "labels"
   ]
  },
  {
   "cell_type": "code",
   "execution_count": null,
   "metadata": {},
   "outputs": [],
   "source": []
  },
  {
   "cell_type": "code",
   "execution_count": null,
   "metadata": {},
   "outputs": [],
   "source": [
    "fill_emotional_scores['total_groundtruth_score'] = (fill_emotional_scores['ground_truth_textsadness'] + fill_emotional_scores['ground_truth_textjoy'] + fill_emotional_scores['ground_truth_textlove'] + fill_emotional_scores['ground_truth_textanger'] + fill_emotional_scores['ground_truth_textfear'] + fill_emotional_scores['ground_truth_textsurprise'])/6\n",
    "fill_emotional_scores['total_response_score'] = (fill_emotional_scores['response_textsadness'] + fill_emotional_scores['response_textjoy'] + fill_emotional_scores['response_textlove'] + fill_emotional_scores['response_textanger'] + fill_emotional_scores['response_textfear'] + fill_emotional_scores['response_textsurprise'])/6"
   ]
  },
  {
   "cell_type": "code",
   "execution_count": null,
   "metadata": {},
   "outputs": [],
   "source": [
    "fill_emotional_scores_comparison = pd.DataFrame()\n",
    "\n",
    "# fill_emotional_scores_comparison['textsadness'] = abs(fill_emotional_scores['ground_truth_textsadness'] - fill_emotional_scores['response_textsadness'])\n",
    "# fill_emotional_scores_comparison['textjoy'] = abs(fill_emotional_scores['ground_truth_textjoy'] - fill_emotional_scores['response_textjoy'])\n",
    "# fill_emotional_scores_comparison['textlove'] = abs(fill_emotional_scores['ground_truth_textlove'] - fill_emotional_scores['response_textlove'])\n",
    "# fill_emotional_scores_comparison['textanger'] = abs(fill_emotional_scores['ground_truth_textanger'] - fill_emotional_scores['response_textanger'])\n",
    "# fill_emotional_scores_comparison['textfear'] = abs(fill_emotional_scores['ground_truth_textfear'] - fill_emotional_scores['response_textfear'])\n",
    "# fill_emotional_scores_comparison['textsurprise'] = abs(fill_emotional_scores['ground_truth_textsurprise'] - fill_emotional_scores['response_textsurprise'])\n",
    "\n",
    "fill_emotional_scores_comparison['textsadness'] = fill_emotional_scores['ground_truth_textsadness'] - fill_emotional_scores['response_textsadness']\n",
    "fill_emotional_scores_comparison['textjoy'] = fill_emotional_scores['ground_truth_textjoy'] - fill_emotional_scores['response_textjoy']\n",
    "fill_emotional_scores_comparison['textlove'] = fill_emotional_scores['ground_truth_textlove'] - fill_emotional_scores['response_textlove']\n",
    "fill_emotional_scores_comparison['textanger'] = fill_emotional_scores['ground_truth_textanger'] - fill_emotional_scores['response_textanger']\n",
    "fill_emotional_scores_comparison['textfear'] = fill_emotional_scores['ground_truth_textfear'] - fill_emotional_scores['response_textfear']\n",
    "fill_emotional_scores_comparison['textsurprise'] = fill_emotional_scores['ground_truth_textsurprise'] - fill_emotional_scores['response_textsurprise']\n",
    "fill_emotional_scores_comparison['total_score_diff'] = fill_emotional_scores['total_groundtruth_score'] - fill_emotional_scores['total_response_score']\n",
    "\n",
    "avgfillsaddiff = fill_emotional_scores_comparison['textsadness'].mean()\n",
    "avgfilljoydiff = fill_emotional_scores_comparison['textjoy'].mean()\n",
    "avgfilllovediff = fill_emotional_scores_comparison['textlove'].mean()\n",
    "avgfillangerdiff = fill_emotional_scores_comparison['textanger'].mean()\n",
    "avgfillfeardiff = fill_emotional_scores_comparison['textfear'].mean()\n",
    "avgfillsurprisediff = fill_emotional_scores_comparison['textsurprise'].mean()\n",
    "avgfilltotalscorediff = fill_emotional_scores_comparison['total_score_diff'].mean()\n",
    "\n",
    "print(\"average difference in sadness of ground_truth and filled in response: \",avgfillsaddiff) #average difference in sadness of ground_truth and response\n",
    "print(\"average difference in joy of ground_truth and filled in response: \" , avgfilljoydiff) #average difference in joy of ground_truth and response\n",
    "print(\"average difference in love of ground_truth and filled in response: \" , avgfilllovediff) #average difference in love of ground_truth and response\n",
    "print(\"average difference in fear of ground_truth and filled in response: \" , avgfillfeardiff) #average difference in fear of ground_truth and response\n",
    "print(\"average difference in surprise of ground_truth and filled in response: \" , avgfillsurprisediff) #average difference in surprise of ground_truth and response\n",
    "print(\"average difference in total score of ground_truth and filled in response: \" , avgfilltotalscorediff) #average difference in total score of ground_truth and response\n",
    "\n",
    "minfillsaddiff = fill_emotional_scores_comparison['textsadness'].min()\n",
    "minfilljoydiff = fill_emotional_scores_comparison['textjoy'].min()\n",
    "minfilllovediff = fill_emotional_scores_comparison['textlove'].min()\n",
    "minfillangerdiff = fill_emotional_scores_comparison['textanger'].min()\n",
    "minfillfeardiff = fill_emotional_scores_comparison['textfear'].min()\n",
    "minfillsurprisediff = fill_emotional_scores_comparison['textsurprise'].min()\n",
    "minfilltotalscorediff = fill_emotional_scores_comparison['total_score_diff'].min()\n",
    "\n",
    "maxfillsaddiff = fill_emotional_scores_comparison['textsadness'].max()\n",
    "maxfilljoydiff = fill_emotional_scores_comparison['textjoy'].max()\n",
    "maxfilllovediff = fill_emotional_scores_comparison['textlove'].max()\n",
    "maxfillangerdiff = fill_emotional_scores_comparison['textanger'].max()\n",
    "maxfillfeardiff = fill_emotional_scores_comparison['textfear'].max()\n",
    "maxfillsurprisediff = fill_emotional_scores_comparison['textsurprise'].max()\n",
    "maxfilltotalscorediff = fill_emotional_scores_comparison['total_score_diff'].max()\n",
    "\n",
    "print(\"minimum difference in sadness of ground_truth and filled in response: \",minfillsaddiff) #minimum difference in sadness of ground_truth and response\n",
    "print(\"minimum difference in joy of ground_truth and filled in response: \" , minfilljoydiff) #minimum difference in joy of ground_truth and response\n",
    "print(\"minimum difference in love of ground_truth and filled in response: \" , minfilllovediff) #minimum difference in love of ground_truth and response\n",
    "print(\"minimum difference in fear of ground_truth and filled in response: \" , minfillfeardiff) #minimum difference in fear of ground_truth and response\n",
    "print(\"minimum difference in surprise of ground_truth and filled in response: \" , minfillsurprisediff) #minimum difference in surprise of ground_truth and response\n",
    "print(\"minimum difference in total score of ground_truth and filled in response: \" , minfilltotalscorediff) #minimum difference in total score of ground_truth and response\n",
    "\n",
    "print(\"maximum difference in sadness of ground_truth and filled in response: \",maxfillsaddiff) #maximum difference in sadness of ground_truth and response\n",
    "print(\"maximum difference in joy of ground_truth and filled in response: \" , maxfilljoydiff) #maximum difference in joy of ground_truth and response\n",
    "print(\"maximum difference in love of ground_truth and filled in response: \" , maxfilllovediff) #maximum difference in love of ground_truth and response\n",
    "print(\"maximum difference in fear of ground_truth and filled in response: \" , maxfillfeardiff) #maximum difference in fear of ground_truth and response\n",
    "print(\"maximum difference in surprise of ground_truth and filled in response: \" , maxfillsurprisediff) #maximum difference in surprise of ground_truth and response\n",
    "print(\"maximum difference in total score of ground_truth and filled in response: \" , maxfilltotalscorediff) #maximum difference in total score of ground_truth and response"
   ]
  }
 ],
 "metadata": {
  "kernelspec": {
   "display_name": "funnydataset",
   "language": "python",
   "name": "python3"
  },
  "language_info": {
   "codemirror_mode": {
    "name": "ipython",
    "version": 3
   },
   "file_extension": ".py",
   "mimetype": "text/x-python",
   "name": "python",
   "nbconvert_exporter": "python",
   "pygments_lexer": "ipython3",
   "version": "3.10.12"
  }
 },
 "nbformat": 4,
 "nbformat_minor": 2
}
